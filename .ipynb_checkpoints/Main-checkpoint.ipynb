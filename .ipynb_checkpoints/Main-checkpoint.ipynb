{
 "cells": [
  {
   "cell_type": "code",
   "execution_count": 24,
   "id": "f35b1f35-d17a-4566-a667-9ce51a009dab",
   "metadata": {},
   "outputs": [],
   "source": [
    "import pandas as pd\n",
    "import numpy as np\n",
    "from sklearn.model_selection import train_test_split\n",
    "from sklearn.preprocessing import StandardScaler, LabelEncoder\n",
    "from sklearn.ensemble import RandomForestRegressor\n",
    "from sklearn.metrics import mean_squared_error, r2_score\n",
    "import onnx\n",
    "import skl2onnx\n",
    "from skl2onnx import convert_sklearn\n",
    "from skl2onnx.common.data_types import FloatTensorType"
   ]
  },
  {
   "cell_type": "code",
   "execution_count": 25,
   "id": "e989ecc9-32e2-4bb8-ba65-7660f4f85af8",
   "metadata": {},
   "outputs": [
    {
     "name": "stdout",
     "output_type": "stream",
     "text": [
      "Initial Data:\n",
      "    ID        State      City      Locality      Property_Type  BHK  \\\n",
      "0   1   Tamil Nadu   Chennai   Locality_84          Apartment    1   \n",
      "1   2  Maharashtra      Pune  Locality_490  Independent House    3   \n",
      "2   3       Punjab  Ludhiana  Locality_167          Apartment    2   \n",
      "3   4    Rajasthan   Jodhpur  Locality_393  Independent House    2   \n",
      "4   5    Rajasthan    Jaipur  Locality_466              Villa    4   \n",
      "\n",
      "   Size_in_SqFt  Price_in_Lakhs  Price_per_SqFt  Year_Built  ...  \\\n",
      "0          4740          489.76            0.10        1990  ...   \n",
      "1          2364          195.52            0.08        2008  ...   \n",
      "2          3642          183.79            0.05        1997  ...   \n",
      "3          2741          300.29            0.11        1991  ...   \n",
      "4          4823          182.90            0.04        2002  ...   \n",
      "\n",
      "  Age_of_Property  Nearby_Schools  Nearby_Hospitals  \\\n",
      "0              35              10                 3   \n",
      "1              17               8                 1   \n",
      "2              28               9                 8   \n",
      "3              34               5                 7   \n",
      "4              23               4                 9   \n",
      "\n",
      "   Public_Transport_Accessibility  Parking_Space  Security  \\\n",
      "0                            High             No        No   \n",
      "1                             Low             No       Yes   \n",
      "2                             Low            Yes        No   \n",
      "3                            High            Yes       Yes   \n",
      "4                             Low             No       Yes   \n",
      "\n",
      "                                  Amenities Facing Owner_Type  \\\n",
      "0  Playground, Gym, Garden, Pool, Clubhouse   West      Owner   \n",
      "1  Playground, Clubhouse, Pool, Gym, Garden  North    Builder   \n",
      "2          Clubhouse, Pool, Playground, Gym  South     Broker   \n",
      "3  Playground, Clubhouse, Gym, Pool, Garden  North    Builder   \n",
      "4  Playground, Garden, Gym, Pool, Clubhouse   East    Builder   \n",
      "\n",
      "  Availability_Status  \n",
      "0       Ready_to_Move  \n",
      "1  Under_Construction  \n",
      "2       Ready_to_Move  \n",
      "3       Ready_to_Move  \n",
      "4       Ready_to_Move  \n",
      "\n",
      "[5 rows x 23 columns]\n",
      "\n",
      "Columns: Index(['ID', 'State', 'City', 'Locality', 'Property_Type', 'BHK',\n",
      "       'Size_in_SqFt', 'Price_in_Lakhs', 'Price_per_SqFt', 'Year_Built',\n",
      "       'Furnished_Status', 'Floor_No', 'Total_Floors', 'Age_of_Property',\n",
      "       'Nearby_Schools', 'Nearby_Hospitals', 'Public_Transport_Accessibility',\n",
      "       'Parking_Space', 'Security', 'Amenities', 'Facing', 'Owner_Type',\n",
      "       'Availability_Status'],\n",
      "      dtype='object')\n"
     ]
    }
   ],
   "source": [
    "df = pd.read_csv(\"india_housing_prices.csv\")\n",
    "\n",
    "print(\"Initial Data:\\n\", df.head())\n",
    "print(\"\\nColumns:\", df.columns)"
   ]
  },
  {
   "cell_type": "code",
   "execution_count": 26,
   "id": "e4b25a2a-db35-45dc-b74f-7d5643e82e49",
   "metadata": {},
   "outputs": [],
   "source": [
    "df['num_amenities'] = df['Amenities'].apply(lambda x: len(str(x).split(',')) if pd.notna(x) else 0)\n",
    "df['Size_in_SqFt_scaled'] = df['Size_in_SqFt'] * 2\n",
    "df['Age_of_Property_scaled'] = df['Age_of_Property'] * 0.1\n",
    "\n",
    "# Encode categorical variables\n",
    "label_encoders = {}\n",
    "categorical_cols = ['Public_Transport_Accessibility', 'City', 'State']\n",
    "\n",
    "for col in categorical_cols:\n",
    "    le = LabelEncoder()\n",
    "    df[col] = le.fit_transform(df[col].astype(str))\n",
    "    label_encoders[col] = le"
   ]
  },
  {
   "cell_type": "code",
   "execution_count": 27,
   "id": "ffe5affa-65f6-4f5b-8a94-8b4dfc10c0ab",
   "metadata": {},
   "outputs": [],
   "source": [
    "df['Parking_Space'] = df['Parking_Space'].map({'Yes': 1, 'No': 0}).fillna(0)\n",
    "df['Security'] = df['Security'].map({'Yes': 1, 'No': 0}).fillna(0)\n",
    "df['Availability_Status'] = df['Availability_Status'].map({'Ready_to_Move': 1, 'Under_Construction': 0}).fillna(0)\n"
   ]
  },
  {
   "cell_type": "code",
   "execution_count": 28,
   "id": "d2602784-c88e-4b9d-9c6d-02d08c4aad4f",
   "metadata": {},
   "outputs": [],
   "source": [
    "features = [\n",
    "    'BHK', 'Size_in_SqFt_scaled', 'Age_of_Property_scaled',\n",
    "    'Nearby_Schools', 'Nearby_Hospitals', 'num_amenities',\n",
    "    'Public_Transport_Accessibility', 'Parking_Space', 'Security',\n",
    "    'Availability_Status', 'City', 'State'\n",
    "]\n",
    "\n",
    "X = df[features].fillna(0).values\n",
    "y = df['Price_in_Lakhs'].fillna(df['Price_in_Lakhs'].mean()).values"
   ]
  },
  {
   "cell_type": "code",
   "execution_count": 29,
   "id": "f5bca10f-01fe-4f3a-bbd7-97dafdd048e7",
   "metadata": {},
   "outputs": [],
   "source": [
    "X_train, X_test, y_train, y_test = train_test_split(\n",
    "    X, y, test_size=0.2, random_state=42\n",
    ")"
   ]
  },
  {
   "cell_type": "code",
   "execution_count": 30,
   "id": "989817ff-1d04-4202-9ebf-11b92a185234",
   "metadata": {},
   "outputs": [],
   "source": [
    "scaler_X = StandardScaler()\n",
    "X_train_scaled = scaler_X.fit_transform(X_train)\n",
    "X_test_scaled = scaler_X.transform(X_test)"
   ]
  },
  {
   "cell_type": "code",
   "execution_count": null,
   "id": "f44a07d6-4e9f-484d-b0cc-6d0ae7a7da93",
   "metadata": {},
   "outputs": [],
   "source": [
    "model = RandomForestRegressor(\n",
    "    n_estimators=200,\n",
    "    random_state=42,\n",
    "    max_depth=15,\n",
    "    min_samples_split=5\n",
    ")\n",
    "\n",
    "model.fit(X_train_scaled, y_train)\n"
   ]
  },
  {
   "cell_type": "code",
   "execution_count": null,
   "id": "9a819b77-5526-4322-80ed-ebc8eab56cf2",
   "metadata": {},
   "outputs": [],
   "source": [
    "y_pred = model.predict(X_test_scaled)\n",
    "rmse = np.sqrt(mean_squared_error(y_test, y_pred))\n",
    "r2 = r2_score(y_test, y_pred)\n",
    "\n",
    "print(\"\\nModel Performance:\")\n",
    "print(\"RMSE:\", rmse)\n",
    "print(\"R² Score:\", r2)"
   ]
  },
  {
   "cell_type": "code",
   "execution_count": null,
   "id": "adb35cec-b807-41c7-8d51-0f72fe179029",
   "metadata": {},
   "outputs": [],
   "source": [
    "importance = dict(zip(features, model.feature_importances_))\n",
    "sorted_importance = sorted(importance.items(), key=lambda x: x[1], reverse=True)\n",
    "print(\"\\nFeature Importances:\")\n",
    "for feat, score in sorted_importance:\n",
    "    print(f\"{feat}: {score:.4f}\")\n"
   ]
  },
  {
   "cell_type": "code",
   "execution_count": null,
   "id": "babe5569-a9c1-4546-8fac-bc3c7cbed73e",
   "metadata": {},
   "outputs": [],
   "source": [
    "initial_type = [('float_input', FloatTensorType([None, X_train.shape[1]]))]\n",
    "onnx_model = convert_sklearn(model, initial_types=initial_type)\n",
    "with open(\"price_predictor.onnx\", \"wb\") as f:\n",
    "    f.write(onnx_model.SerializeToString())\n",
    "\n",
    "print(\"\\n✅ Model exported to price_predictor.onnx\")"
   ]
  },
  {
   "cell_type": "code",
   "execution_count": null,
   "id": "8023e1cc-d813-4c81-aed7-3334cdbab057",
   "metadata": {},
   "outputs": [],
   "source": [
    "output_df = pd.DataFrame({\n",
    "    \"Actual\": y_test,\n",
    "    \"Predicted\": y_pred\n",
    "})\n",
    "output_df.to_csv(\"predictions_for_tableau.csv\", index=False)\n",
    "\n",
    "print(\"✅ Predictions saved to predictions_for_tableau.csv\")"
   ]
  }
 ],
 "metadata": {
  "kernelspec": {
   "display_name": "Python 3 (ipykernel)",
   "language": "python",
   "name": "python3"
  },
  "language_info": {
   "codemirror_mode": {
    "name": "ipython",
    "version": 3
   },
   "file_extension": ".py",
   "mimetype": "text/x-python",
   "name": "python",
   "nbconvert_exporter": "python",
   "pygments_lexer": "ipython3",
   "version": "3.13.3"
  }
 },
 "nbformat": 4,
 "nbformat_minor": 5
}
